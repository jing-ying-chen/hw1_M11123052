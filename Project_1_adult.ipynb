{
 "cells": [
  {
   "cell_type": "code",
   "execution_count": 1,
   "id": "b9576da2",
   "metadata": {},
   "outputs": [],
   "source": [
    "import numpy as np\n",
    "import pandas as pd\n",
    "from sklearn.preprocessing import LabelEncoder\n",
    "from sklearn.preprocessing import OneHotEncoder\n",
    "from sklearn.preprocessing import StandardScaler\n",
    "from keras.models import Sequential\n",
    "from keras.layers import Dense\n",
    "from keras import optimizers\n",
    "\n",
    "#參考文獻\n",
    "#https://machinelearningmastery.com/tutorial-first-neural-network-python-keras/\n",
    "#https://hackmd.io/@flagmaker/rkDYJRLwj"
   ]
  },
  {
   "cell_type": "code",
   "execution_count": 2,
   "id": "23b6ee7d",
   "metadata": {
    "scrolled": true
   },
   "outputs": [],
   "source": [
    "#Import data\n",
    "colNames = [\"age\", \"workclass\", \"fnlwgt\", \"education\", \"education-num\",\n",
    "            \"marital-status\", \"occupation\", \"relationship\", \"race\", \"sex\",\n",
    "            \"capital-gain\", \"capital-loss\", \"hours-per-week\", \"native-country\", \"Income\"]\n",
    "\n",
    "train = pd.read_csv(\"C:\\\\adult.data\", names=colNames)\n",
    "test = pd.read_csv(\"C:\\\\adult.test\", names=colNames)\n",
    "test = test[1:]"
   ]
  },
  {
   "cell_type": "code",
   "execution_count": 3,
   "id": "5062b292",
   "metadata": {},
   "outputs": [],
   "source": [
    "#Preprocessing-Delete missing data\n",
    "train = train.drop(train[(train[\"workclass\"]==\" ?\") |\n",
    "                         (train[\"occupation\"]==\" ?\") |\n",
    "                         (train[\"native-country\"]==\" ?\")].index)\n",
    "test = test.drop(test[(test[\"workclass\"]==\" ?\") |\n",
    "                       (test[\"occupation\"]==\" ?\") |\n",
    "                       (test[\"native-country\"]==\" ?\")].index)"
   ]
  },
  {
   "cell_type": "code",
   "execution_count": 4,
   "id": "dcfe60f6",
   "metadata": {},
   "outputs": [],
   "source": [
    "#Preprocessing-LabelEncoder\n",
    "for col in train[[\"workclass\", \"education\", \"marital-status\", \"occupation\", \"relationship\", \"race\", \"sex\", \"native-country\", \"Income\"]]:\n",
    "    LE = LabelEncoder()\n",
    "    train[col] = LE.fit_transform(train[col])\n",
    "    test[col] = LE.fit_transform(test[col])"
   ]
  },
  {
   "cell_type": "code",
   "execution_count": 5,
   "id": "469a6e20",
   "metadata": {},
   "outputs": [],
   "source": [
    "#Preprocessing-Split data\n",
    "X_train = train.drop(\"hours-per-week\", axis=1)\n",
    "y_train = train[[\"hours-per-week\"]]\n",
    "X_test = test.drop(\"hours-per-week\", axis=1)\n",
    "y_test = test[[\"hours-per-week\"]]\n",
    "\n",
    "X_train, y_train = np.array(X_train), np.array(y_train)\n",
    "X_test, y_test = np.array(X_test), np.array(y_test)"
   ]
  },
  {
   "cell_type": "code",
   "execution_count": 6,
   "id": "c94b1962",
   "metadata": {},
   "outputs": [],
   "source": [
    "#Preprocessing-Standardization\n",
    "scaler = StandardScaler()\n",
    "\n",
    "X_train = scaler.fit_transform(X_train)\n",
    "X_test = scaler.transform(X_test)"
   ]
  },
  {
   "cell_type": "code",
   "execution_count": 7,
   "id": "0e15f171",
   "metadata": {},
   "outputs": [
    {
     "name": "stdout",
     "output_type": "stream",
     "text": [
      "Epoch 1/5\n",
      "302/302 [==============================] - 1s 1ms/step - loss: 1586.0261 - MAE: 37.8948 - MAPE: 91.6702 - MSE: 1586.0261\n",
      "Epoch 2/5\n",
      "302/302 [==============================] - 0s 1ms/step - loss: 781.8547 - MAE: 24.5384 - MAPE: 61.3343 - MSE: 781.8547\n",
      "Epoch 3/5\n",
      "302/302 [==============================] - 0s 1ms/step - loss: 458.5124 - MAE: 17.6693 - MAPE: 49.6317 - MSE: 458.5124\n",
      "Epoch 4/5\n",
      "302/302 [==============================] - 0s 1ms/step - loss: 335.7112 - MAE: 14.8207 - MAPE: 43.3241 - MSE: 335.7112\n",
      "Epoch 5/5\n",
      "302/302 [==============================] - 0s 1ms/step - loss: 233.2044 - MAE: 11.9872 - MAPE: 36.9653 - MSE: 233.2044\n",
      "471/471 [==============================] - 1s 1ms/step - loss: 198.3593 - MAE: 10.9071 - MAPE: 35.5091 - MSE: 198.3593\n"
     ]
    },
    {
     "data": {
      "text/plain": [
       "[198.35934448242188, 10.907089233398438, 35.50906753540039, 198.35934448242188]"
      ]
     },
     "execution_count": 7,
     "metadata": {},
     "output_type": "execute_result"
    }
   ],
   "source": [
    "#epochs=5, batch_size=100\n",
    "model = Sequential()\n",
    "model.add(Dense(input_dim=14, units=1))\n",
    "model.add(Dense(20, activation=\"relu\"))\n",
    "model.add(Dense(1))\n",
    "\n",
    "model.compile(loss=\"mse\", optimizer=\"adam\", metrics=[\"MAE\", \"MAPE\", \"MSE\"])\n",
    "\n",
    "history = model.fit(X_train, y_train, epochs=5, batch_size=100)\n",
    "\n",
    "model.evaluate(X_test, y_test)"
   ]
  },
  {
   "cell_type": "code",
   "execution_count": 8,
   "id": "bba215bf",
   "metadata": {
    "scrolled": true
   },
   "outputs": [
    {
     "name": "stdout",
     "output_type": "stream",
     "text": [
      "Epoch 1/10\n",
      "302/302 [==============================] - 1s 1ms/step - loss: 1650.3928 - MAE: 38.8091 - MAPE: 94.3252 - MSE: 1650.3928\n",
      "Epoch 2/10\n",
      "302/302 [==============================] - 0s 1ms/step - loss: 903.7518 - MAE: 26.8128 - MAPE: 65.4898 - MSE: 903.7518\n",
      "Epoch 3/10\n",
      "302/302 [==============================] - 0s 1ms/step - loss: 490.3600 - MAE: 18.2904 - MAPE: 49.1094 - MSE: 490.3600\n",
      "Epoch 4/10\n",
      "302/302 [==============================] - 0s 1ms/step - loss: 388.9840 - MAE: 16.0265 - MAPE: 45.1674 - MSE: 388.9839\n",
      "Epoch 5/10\n",
      "302/302 [==============================] - 0s 1ms/step - loss: 294.7380 - MAE: 13.7159 - MAPE: 40.4428 - MSE: 294.7380\n",
      "Epoch 6/10\n",
      "302/302 [==============================] - 0s 1ms/step - loss: 217.3112 - MAE: 11.5424 - MAPE: 35.9815 - MSE: 217.3112\n",
      "Epoch 7/10\n",
      "302/302 [==============================] - 0s 1ms/step - loss: 164.8680 - MAE: 9.6843 - MAPE: 32.4673 - MSE: 164.8680\n",
      "Epoch 8/10\n",
      "302/302 [==============================] - 0s 1ms/step - loss: 139.1820 - MAE: 8.4360 - MAPE: 30.3713 - MSE: 139.1820\n",
      "Epoch 9/10\n",
      "302/302 [==============================] - 0s 1ms/step - loss: 131.6476 - MAE: 7.8699 - MAPE: 29.5922 - MSE: 131.6476\n",
      "Epoch 10/10\n",
      "302/302 [==============================] - 0s 1ms/step - loss: 129.4942 - MAE: 7.7236 - MAPE: 29.4083 - MSE: 129.4942\n",
      "471/471 [==============================] - 1s 1ms/step - loss: 131.8118 - MAE: 7.6878 - MAPE: 29.9954 - MSE: 131.8118\n"
     ]
    },
    {
     "data": {
      "text/plain": [
       "[131.8118133544922, 7.68778133392334, 29.99542236328125, 131.8118133544922]"
      ]
     },
     "execution_count": 8,
     "metadata": {},
     "output_type": "execute_result"
    }
   ],
   "source": [
    "#epochs=10, batch_size=100\n",
    "model = Sequential()\n",
    "model.add(Dense(input_dim=14, units=1))\n",
    "model.add(Dense(20, activation=\"relu\"))\n",
    "model.add(Dense(1))\n",
    "\n",
    "model.compile(loss=\"mse\", optimizer=\"adam\", metrics=[\"MAE\", \"MAPE\", \"MSE\"])\n",
    "\n",
    "history = model.fit(X_train, y_train, epochs=10, batch_size=100)\n",
    "\n",
    "model.evaluate(X_test, y_test)"
   ]
  },
  {
   "cell_type": "code",
   "execution_count": 9,
   "id": "016f15c9",
   "metadata": {},
   "outputs": [
    {
     "name": "stdout",
     "output_type": "stream",
     "text": [
      "Epoch 1/5\n",
      "604/604 [==============================] - 1s 1ms/step - loss: 1201.1331 - MAE: 31.5189 - MAPE: 77.4941 - MSE: 1201.1331\n",
      "Epoch 2/5\n",
      "604/604 [==============================] - 1s 1ms/step - loss: 469.2158 - MAE: 17.9143 - MAPE: 50.7653 - MSE: 469.2158\n",
      "Epoch 3/5\n",
      "604/604 [==============================] - 1s 1ms/step - loss: 208.9883 - MAE: 10.8780 - MAPE: 35.5497 - MSE: 208.9883\n",
      "Epoch 4/5\n",
      "604/604 [==============================] - 1s 1ms/step - loss: 138.2318 - MAE: 7.9724 - MAPE: 30.1253 - MSE: 138.2318\n",
      "Epoch 5/5\n",
      "604/604 [==============================] - 1s 1ms/step - loss: 131.7135 - MAE: 7.8557 - MAPE: 29.8837 - MSE: 131.7135\n",
      "471/471 [==============================] - 1s 1ms/step - loss: 132.4556 - MAE: 7.9292 - MAPE: 30.8841 - MSE: 132.4556\n"
     ]
    },
    {
     "data": {
      "text/plain": [
       "[132.45556640625, 7.929205417633057, 30.88410186767578, 132.45556640625]"
      ]
     },
     "execution_count": 9,
     "metadata": {},
     "output_type": "execute_result"
    }
   ],
   "source": [
    "#epochs=5, batch_size=50\n",
    "model = Sequential()\n",
    "model.add(Dense(input_dim=14, units=1))\n",
    "model.add(Dense(20, activation=\"relu\"))\n",
    "model.add(Dense(1))\n",
    "\n",
    "model.compile(loss=\"mse\", optimizer=\"adam\", metrics=[\"MAE\", \"MAPE\", \"MSE\"])\n",
    "\n",
    "history = model.fit(X_train, y_train, epochs=5, batch_size=50)\n",
    "\n",
    "model.evaluate(X_test, y_test)"
   ]
  }
 ],
 "metadata": {
  "kernelspec": {
   "display_name": "Python 3 (ipykernel)",
   "language": "python",
   "name": "python3"
  },
  "language_info": {
   "codemirror_mode": {
    "name": "ipython",
    "version": 3
   },
   "file_extension": ".py",
   "mimetype": "text/x-python",
   "name": "python",
   "nbconvert_exporter": "python",
   "pygments_lexer": "ipython3",
   "version": "3.9.7"
  }
 },
 "nbformat": 4,
 "nbformat_minor": 5
}
