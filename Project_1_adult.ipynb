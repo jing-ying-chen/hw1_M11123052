{
 "cells": [
  {
   "cell_type": "code",
   "execution_count": 21,
   "id": "b9576da2",
   "metadata": {},
   "outputs": [],
   "source": [
    "import numpy as np\n",
    "import pandas as pd\n",
    "from sklearn import preprocessing\n",
    "from sklearn.preprocessing import LabelEncoder\n",
    "from sklearn.preprocessing import OneHotEncoder\n",
    "from sklearn.preprocessing import StandardScaler\n",
    "from keras.models import Sequential\n",
    "from keras.layers import Dense\n",
    "from keras import optimizers\n",
    "\n",
    "#參考文獻\n",
    "#https://machinelearningmastery.com/tutorial-first-neural-network-python-keras/\n",
    "#https://hackmd.io/@flagmaker/rkDYJRLwj\n",
    "#http://www.taroballz.com/2020/02/25/DL_Tensorflow_keras_regression/\n",
    "#https://www.itread01.com/elpc.html"
   ]
  },
  {
   "cell_type": "code",
   "execution_count": 17,
   "id": "23b6ee7d",
   "metadata": {
    "scrolled": true
   },
   "outputs": [],
   "source": [
    "#Import data\n",
    "colNames = [\"age\", \"workclass\", \"fnlwgt\", \"education\", \"education-num\",\n",
    "            \"marital-status\", \"occupation\", \"relationship\", \"race\", \"sex\",\n",
    "            \"capital-gain\", \"capital-loss\", \"hours-per-week\", \"native-country\", \"Income\"]\n",
    "\n",
    "train = pd.read_csv(\"C:\\\\adult.data\", names=colNames)\n",
    "test = pd.read_csv(\"C:\\\\adult.test\", names=colNames)\n",
    "test = test[1:]"
   ]
  },
  {
   "cell_type": "code",
   "execution_count": 18,
   "id": "5062b292",
   "metadata": {},
   "outputs": [],
   "source": [
    "#Preprocessing-Delete missing data\n",
    "train = train.drop(train[(train[\"workclass\"]==\" ?\") |\n",
    "                         (train[\"occupation\"]==\" ?\") |\n",
    "                         (train[\"native-country\"]==\" ?\")].index)\n",
    "test = test.drop(test[(test[\"workclass\"]==\" ?\") |\n",
    "                       (test[\"occupation\"]==\" ?\") |\n",
    "                       (test[\"native-country\"]==\" ?\")].index)"
   ]
  },
  {
   "cell_type": "code",
   "execution_count": 19,
   "id": "dcfe60f6",
   "metadata": {},
   "outputs": [],
   "source": [
    "#Preprocessing-LabelEncoder\n",
    "for col in train[[\"workclass\", \"education\", \"marital-status\", \"occupation\", \"relationship\", \"race\", \"sex\", \"native-country\", \"Income\"]]:\n",
    "    LE = LabelEncoder()\n",
    "    train[col] = LE.fit_transform(train[col])\n",
    "    test[col] = LE.fit_transform(test[col])"
   ]
  },
  {
   "cell_type": "code",
   "execution_count": 5,
   "id": "469a6e20",
   "metadata": {},
   "outputs": [],
   "source": [
    "#Preprocessing-Split data\n",
    "X_train = train.drop(\"hours-per-week\", axis=1)\n",
    "y_train = train[[\"hours-per-week\"]]\n",
    "X_test = test.drop(\"hours-per-week\", axis=1)\n",
    "y_test = test[[\"hours-per-week\"]]\n",
    "\n",
    "X_train, y_train = np.array(X_train), np.array(y_train)\n",
    "X_test, y_test = np.array(X_test), np.array(y_test)"
   ]
  },
  {
   "cell_type": "code",
   "execution_count": 6,
   "id": "c94b1962",
   "metadata": {},
   "outputs": [],
   "source": [
    "#Preprocessing-Standardization\n",
    "scaler = StandardScaler()\n",
    "\n",
    "X_train = scaler.fit_transform(X_train)\n",
    "X_test = scaler.transform(X_test)"
   ]
  },
  {
   "cell_type": "code",
   "execution_count": 37,
   "id": "0e15f171",
   "metadata": {},
   "outputs": [
    {
     "name": "stdout",
     "output_type": "stream",
     "text": [
      "Epoch 1/5\n",
      "302/302 [==============================] - 1s 1ms/step - loss: 1625.1304 - MAE: 38.3538 - MAPE: 92.8072 - MSE: 1625.1304\n",
      "Epoch 2/5\n",
      "302/302 [==============================] - 0s 1ms/step - loss: 918.8660 - MAE: 26.9404 - MAPE: 66.9973 - MSE: 918.8660\n",
      "Epoch 3/5\n",
      "302/302 [==============================] - 0s 1ms/step - loss: 578.9720 - MAE: 20.0754 - MAPE: 54.8127 - MSE: 578.9720\n",
      "Epoch 4/5\n",
      "302/302 [==============================] - 0s 1ms/step - loss: 460.7553 - MAE: 17.5366 - MAPE: 49.6196 - MSE: 460.7552\n",
      "Epoch 5/5\n",
      "302/302 [==============================] - 0s 1ms/step - loss: 358.3761 - MAE: 15.2617 - MAPE: 44.6736 - MSE: 358.3761\n",
      "471/471 [==============================] - 1s 1ms/step - loss: 306.8297 - MAE: 14.0273 - MAPE: 43.3130 - MSE: 306.8297\n"
     ]
    },
    {
     "data": {
      "text/plain": [
       "[306.82965087890625, 14.027301788330078, 43.31304931640625, 306.82965087890625]"
      ]
     },
     "execution_count": 37,
     "metadata": {},
     "output_type": "execute_result"
    }
   ],
   "source": [
    "#units=20, epochs=5, batch_size=100\n",
    "model = Sequential()\n",
    "model.add(Dense(input_dim=14, units=1))\n",
    "model.add(Dense(20, activation=\"relu\"))\n",
    "model.add(Dense(1))\n",
    "\n",
    "model.compile(loss=\"mse\", optimizer=\"adam\", metrics=[\"MAE\", \"MAPE\", \"MSE\"])\n",
    "\n",
    "history = model.fit(X_train, y_train, epochs=5, batch_size=100)\n",
    "\n",
    "model.evaluate(X_test, y_test)"
   ]
  },
  {
   "cell_type": "code",
   "execution_count": 39,
   "id": "10532b50",
   "metadata": {},
   "outputs": [
    {
     "name": "stdout",
     "output_type": "stream",
     "text": [
      "Epoch 1/5\n",
      "302/302 [==============================] - 2s 1ms/step - loss: 1604.7517 - MAE: 38.1169 - MAPE: 92.3165 - MSE: 1604.7517\n",
      "Epoch 2/5\n",
      "302/302 [==============================] - 0s 1ms/step - loss: 797.7452 - MAE: 24.7161 - MAPE: 61.2894 - MSE: 797.7452\n",
      "Epoch 3/5\n",
      "302/302 [==============================] - 0s 1ms/step - loss: 461.5562 - MAE: 17.7167 - MAPE: 49.0249 - MSE: 461.5562\n",
      "Epoch 4/5\n",
      "302/302 [==============================] - 0s 1ms/step - loss: 301.7297 - MAE: 13.9035 - MAPE: 41.2872 - MSE: 301.7297\n",
      "Epoch 5/5\n",
      "302/302 [==============================] - 0s 1ms/step - loss: 197.8382 - MAE: 10.5394 - MAPE: 34.6836 - MSE: 197.8382\n",
      "471/471 [==============================] - 1s 1ms/step - loss: 173.1483 - MAE: 9.4265 - MAPE: 33.5763 - MSE: 173.1483\n"
     ]
    },
    {
     "data": {
      "text/plain": [
       "[173.14833068847656, 9.426472663879395, 33.576297760009766, 173.14833068847656]"
      ]
     },
     "execution_count": 39,
     "metadata": {},
     "output_type": "execute_result"
    }
   ],
   "source": [
    "#units=40, epochs=5, batch_size=100\n",
    "model = Sequential()\n",
    "model.add(Dense(input_dim=14, units=1))\n",
    "model.add(Dense(40, activation=\"relu\"))\n",
    "model.add(Dense(1))\n",
    "\n",
    "model.compile(loss=\"mse\", optimizer=\"adam\", metrics=[\"MAE\", \"MAPE\", \"MSE\"])\n",
    "\n",
    "history = model.fit(X_train, y_train, epochs=5, batch_size=100)\n",
    "\n",
    "model.evaluate(X_test, y_test)"
   ]
  },
  {
   "cell_type": "code",
   "execution_count": 40,
   "id": "f8708331",
   "metadata": {
    "scrolled": true
   },
   "outputs": [
    {
     "name": "stdout",
     "output_type": "stream",
     "text": [
      "Epoch 1/10\n",
      "302/302 [==============================] - 1s 1ms/step - loss: 1567.0763 - MAE: 37.3101 - MAPE: 89.9799 - MSE: 1567.0763\n",
      "Epoch 2/10\n",
      "302/302 [==============================] - 0s 1ms/step - loss: 969.6332 - MAE: 27.4094 - MAPE: 69.5815 - MSE: 969.6332\n",
      "Epoch 3/10\n",
      "302/302 [==============================] - 0s 1ms/step - loss: 612.4415 - MAE: 20.8947 - MAPE: 56.9875 - MSE: 612.4415\n",
      "Epoch 4/10\n",
      "302/302 [==============================] - 0s 1ms/step - loss: 382.7840 - MAE: 15.9112 - MAPE: 46.5225 - MSE: 382.7840\n",
      "Epoch 5/10\n",
      "302/302 [==============================] - 0s 1ms/step - loss: 247.3172 - MAE: 12.1266 - MAPE: 38.8137 - MSE: 247.3172\n",
      "Epoch 6/10\n",
      "302/302 [==============================] - 0s 1ms/step - loss: 175.4435 - MAE: 9.4039 - MAPE: 33.3546 - MSE: 175.4435\n",
      "Epoch 7/10\n",
      "302/302 [==============================] - 0s 1ms/step - loss: 149.9089 - MAE: 8.1515 - MAPE: 31.0705 - MSE: 149.9089\n",
      "Epoch 8/10\n",
      "302/302 [==============================] - 0s 1ms/step - loss: 142.3702 - MAE: 7.7918 - MAPE: 30.4838 - MSE: 142.3702\n",
      "Epoch 9/10\n",
      "302/302 [==============================] - 0s 1ms/step - loss: 139.9176 - MAE: 7.6857 - MAPE: 30.3268 - MSE: 139.9176\n",
      "Epoch 10/10\n",
      "302/302 [==============================] - 0s 1ms/step - loss: 138.5541 - MAE: 7.6831 - MAPE: 30.3457 - MSE: 138.5541\n",
      "471/471 [==============================] - 1s 1ms/step - loss: 139.8966 - MAE: 7.6790 - MAPE: 31.2202 - MSE: 139.8966\n"
     ]
    },
    {
     "data": {
      "text/plain": [
       "[139.89663696289062, 7.679018020629883, 31.220211029052734, 139.89663696289062]"
      ]
     },
     "execution_count": 40,
     "metadata": {},
     "output_type": "execute_result"
    }
   ],
   "source": [
    "#units=20, epochs=10, batch_size=100\n",
    "model = Sequential()\n",
    "model.add(Dense(input_dim=14, units=1))\n",
    "model.add(Dense(20, activation=\"relu\"))\n",
    "model.add(Dense(1))\n",
    "\n",
    "model.compile(loss=\"mse\", optimizer=\"adam\", metrics=[\"MAE\", \"MAPE\", \"MSE\"])\n",
    "\n",
    "history = model.fit(X_train, y_train, epochs=10, batch_size=100)\n",
    "\n",
    "model.evaluate(X_test, y_test)"
   ]
  },
  {
   "cell_type": "code",
   "execution_count": 41,
   "id": "dee5e4a9",
   "metadata": {},
   "outputs": [
    {
     "name": "stdout",
     "output_type": "stream",
     "text": [
      "Epoch 1/5\n",
      "604/604 [==============================] - 1s 1ms/step - loss: 1354.4187 - MAE: 34.0322 - MAPE: 82.5001 - MSE: 1354.4187\n",
      "Epoch 2/5\n",
      "604/604 [==============================] - 1s 1ms/step - loss: 542.9550 - MAE: 19.5414 - MAPE: 52.9179 - MSE: 542.9550\n",
      "Epoch 3/5\n",
      "604/604 [==============================] - 1s 1ms/step - loss: 312.4104 - MAE: 14.2328 - MAPE: 42.1762 - MSE: 312.4104\n",
      "Epoch 4/5\n",
      "604/604 [==============================] - 1s 1ms/step - loss: 166.8306 - MAE: 9.1252 - MAPE: 32.6297 - MSE: 166.8306\n",
      "Epoch 5/5\n",
      "604/604 [==============================] - 1s 1ms/step - loss: 144.2509 - MAE: 7.8108 - MAPE: 30.8161 - MSE: 144.2509\n",
      "471/471 [==============================] - 1s 1ms/step - loss: 145.2194 - MAE: 7.7414 - MAPE: 31.4263 - MSE: 145.2194\n"
     ]
    },
    {
     "data": {
      "text/plain": [
       "[145.21937561035156, 7.741360187530518, 31.426313400268555, 145.21937561035156]"
      ]
     },
     "execution_count": 41,
     "metadata": {},
     "output_type": "execute_result"
    }
   ],
   "source": [
    "#units=20, epochs=5, batch_size=50\n",
    "model = Sequential()\n",
    "model.add(Dense(input_dim=14, units=1))\n",
    "model.add(Dense(20, activation=\"relu\"))\n",
    "model.add(Dense(1))\n",
    "\n",
    "model.compile(loss=\"mse\", optimizer=\"adam\", metrics=[\"MAE\", \"MAPE\", \"MSE\"])\n",
    "\n",
    "history = model.fit(X_train, y_train, epochs=5, batch_size=50)\n",
    "\n",
    "model.evaluate(X_test, y_test)"
   ]
  }
 ],
 "metadata": {
  "kernelspec": {
   "display_name": "Python 3 (ipykernel)",
   "language": "python",
   "name": "python3"
  },
  "language_info": {
   "codemirror_mode": {
    "name": "ipython",
    "version": 3
   },
   "file_extension": ".py",
   "mimetype": "text/x-python",
   "name": "python",
   "nbconvert_exporter": "python",
   "pygments_lexer": "ipython3",
   "version": "3.9.7"
  }
 },
 "nbformat": 4,
 "nbformat_minor": 5
}
