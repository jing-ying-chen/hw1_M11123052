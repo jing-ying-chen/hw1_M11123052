{
 "cells": [
  {
   "cell_type": "code",
   "execution_count": 1,
   "id": "b9576da2",
   "metadata": {},
   "outputs": [],
   "source": [
    "import numpy as np\n",
    "import pandas as pd\n",
    "from sklearn import preprocessing\n",
    "from sklearn.preprocessing import LabelEncoder\n",
    "from sklearn.preprocessing import OneHotEncoder\n",
    "from sklearn.preprocessing import StandardScaler\n",
    "from keras.models import Sequential\n",
    "from keras.layers import Dense\n",
    "from keras import optimizers\n",
    "\n",
    "#參考文獻\n",
    "#https://machinelearningmastery.com/tutorial-first-neural-network-python-keras/\n",
    "#https://hackmd.io/@flagmaker/rkDYJRLwj\n",
    "#http://www.taroballz.com/2020/02/25/DL_Tensorflow_keras_regression/\n",
    "#https://www.itread01.com/elpc.html"
   ]
  },
  {
   "cell_type": "code",
   "execution_count": 2,
   "id": "23b6ee7d",
   "metadata": {
    "scrolled": true
   },
   "outputs": [],
   "source": [
    "#Import data\n",
    "colNames = [\"age\", \"workclass\", \"fnlwgt\", \"education\", \"education-num\",\n",
    "            \"marital-status\", \"occupation\", \"relationship\", \"race\", \"sex\",\n",
    "            \"capital-gain\", \"capital-loss\", \"hours-per-week\", \"native-country\", \"Income\"]\n",
    "\n",
    "train = pd.read_csv(\"C:\\\\adult.data\", names=colNames)\n",
    "test = pd.read_csv(\"C:\\\\adult.test\", names=colNames)\n",
    "test = test[1:]"
   ]
  },
  {
   "cell_type": "code",
   "execution_count": 3,
   "id": "5062b292",
   "metadata": {},
   "outputs": [],
   "source": [
    "#Preprocessing-Delete missing data\n",
    "train = train.drop(train[(train[\"workclass\"]==\" ?\") |\n",
    "                         (train[\"occupation\"]==\" ?\") |\n",
    "                         (train[\"native-country\"]==\" ?\")].index)\n",
    "test = test.drop(test[(test[\"workclass\"]==\" ?\") |\n",
    "                       (test[\"occupation\"]==\" ?\") |\n",
    "                       (test[\"native-country\"]==\" ?\")].index)"
   ]
  },
  {
   "cell_type": "code",
   "execution_count": 4,
   "id": "dcfe60f6",
   "metadata": {},
   "outputs": [],
   "source": [
    "#Preprocessing-LabelEncoder\n",
    "for col in train[[\"workclass\", \"education\", \"marital-status\", \"occupation\", \"relationship\", \"race\", \"sex\", \"native-country\", \"Income\"]]:\n",
    "    LE = LabelEncoder()\n",
    "    train[col] = LE.fit_transform(train[col])\n",
    "    test[col] = LE.fit_transform(test[col])"
   ]
  },
  {
   "cell_type": "code",
   "execution_count": 5,
   "id": "469a6e20",
   "metadata": {},
   "outputs": [],
   "source": [
    "#Preprocessing-Split data\n",
    "X_train = train.drop(\"hours-per-week\", axis=1)\n",
    "y_train = train[[\"hours-per-week\"]]\n",
    "X_test = test.drop(\"hours-per-week\", axis=1)\n",
    "y_test = test[[\"hours-per-week\"]]\n",
    "\n",
    "X_train, y_train = np.array(X_train), np.array(y_train)\n",
    "X_test, y_test = np.array(X_test), np.array(y_test)"
   ]
  },
  {
   "cell_type": "code",
   "execution_count": 6,
   "id": "c94b1962",
   "metadata": {},
   "outputs": [],
   "source": [
    "#Preprocessing-Standardization\n",
    "scaler = StandardScaler()\n",
    "\n",
    "X_train = scaler.fit_transform(X_train)\n",
    "X_test = scaler.transform(X_test)"
   ]
  },
  {
   "cell_type": "code",
   "execution_count": 7,
   "id": "0e15f171",
   "metadata": {},
   "outputs": [
    {
     "name": "stdout",
     "output_type": "stream",
     "text": [
      "Epoch 1/5\n",
      "302/302 [==============================] - 2s 3ms/step - loss: 1645.1570 - MAE: 38.6435 - MAPE: 93.5175 - MSE: 1645.1570\n",
      "Epoch 2/5\n",
      "302/302 [==============================] - 1s 3ms/step - loss: 1042.6940 - MAE: 29.2021 - MAPE: 72.1214 - MSE: 1042.6940\n",
      "Epoch 3/5\n",
      "302/302 [==============================] - 1s 5ms/step - loss: 664.7850 - MAE: 22.0206 - MAPE: 59.7805 - MSE: 664.7849\n",
      "Epoch 4/5\n",
      "302/302 [==============================] - 2s 5ms/step - loss: 524.3759 - MAE: 19.1198 - MAPE: 53.4896 - MSE: 524.3759\n",
      "Epoch 5/5\n",
      "302/302 [==============================] - 2s 5ms/step - loss: 401.2383 - MAE: 16.4851 - MAPE: 47.2419 - MSE: 401.2383\n",
      "471/471 [==============================] - 2s 3ms/step - loss: 347.4308 - MAE: 15.2054 - MAPE: 44.7477 - MSE: 347.4308\n"
     ]
    },
    {
     "data": {
      "text/plain": [
       "[347.4307861328125, 15.205439567565918, 44.747703552246094, 347.4307861328125]"
      ]
     },
     "execution_count": 7,
     "metadata": {},
     "output_type": "execute_result"
    }
   ],
   "source": [
    "#units=20, epochs=5, batch_size=100\n",
    "model = Sequential()\n",
    "model.add(Dense(input_dim=14, units=1))\n",
    "model.add(Dense(20, activation=\"relu\"))\n",
    "model.add(Dense(1))\n",
    "\n",
    "model.compile(loss=\"mse\", optimizer=\"adam\", metrics=[\"MAE\", \"MAPE\", \"MSE\"])\n",
    "\n",
    "history = model.fit(X_train, y_train, epochs=5, batch_size=100)\n",
    "\n",
    "model.evaluate(X_test, y_test)"
   ]
  },
  {
   "cell_type": "code",
   "execution_count": 8,
   "id": "b19333fe",
   "metadata": {},
   "outputs": [
    {
     "name": "stdout",
     "output_type": "stream",
     "text": [
      "Epoch 1/5\n",
      "302/302 [==============================] - 2s 2ms/step - loss: 1502.0938 - MAE: 36.5325 - MAPE: 88.5440 - MSE: 1502.0938\n",
      "Epoch 2/5\n",
      "302/302 [==============================] - 1s 2ms/step - loss: 738.3783 - MAE: 23.4822 - MAPE: 59.5665 - MSE: 738.3783\n",
      "Epoch 3/5\n",
      "302/302 [==============================] - 1s 3ms/step - loss: 392.3766 - MAE: 16.2781 - MAPE: 45.8355 - MSE: 392.3766\n",
      "Epoch 4/5\n",
      "302/302 [==============================] - 1s 4ms/step - loss: 224.4156 - MAE: 11.5320 - MAPE: 37.0731 - MSE: 224.4156\n",
      "Epoch 5/5\n",
      "302/302 [==============================] - 1s 3ms/step - loss: 161.9464 - MAE: 8.8258 - MAPE: 32.2346 - MSE: 161.9464\n",
      "471/471 [==============================] - 2s 3ms/step - loss: 153.2380 - MAE: 8.1319 - MAPE: 31.9353 - MSE: 153.2380\n"
     ]
    },
    {
     "data": {
      "text/plain": [
       "[153.238037109375, 8.13191032409668, 31.935319900512695, 153.238037109375]"
      ]
     },
     "execution_count": 8,
     "metadata": {},
     "output_type": "execute_result"
    }
   ],
   "source": [
    "#units=40, epochs=5, batch_size=100\n",
    "model = Sequential()\n",
    "model.add(Dense(input_dim=14, units=1))\n",
    "model.add(Dense(40, activation=\"relu\"))\n",
    "model.add(Dense(1))\n",
    "\n",
    "model.compile(loss=\"mse\", optimizer=\"adam\", metrics=[\"MAE\", \"MAPE\", \"MSE\"])\n",
    "\n",
    "history = model.fit(X_train, y_train, epochs=5, batch_size=100)\n",
    "\n",
    "model.evaluate(X_test, y_test)"
   ]
  },
  {
   "cell_type": "code",
   "execution_count": 9,
   "id": "bba215bf",
   "metadata": {
    "scrolled": true
   },
   "outputs": [
    {
     "name": "stdout",
     "output_type": "stream",
     "text": [
      "Epoch 1/10\n",
      "302/302 [==============================] - 2s 4ms/step - loss: 1701.6735 - MAE: 39.4122 - MAPE: 95.7236 - MSE: 1701.6735\n",
      "Epoch 2/10\n",
      "302/302 [==============================] - 1s 2ms/step - loss: 1065.2734 - MAE: 29.4489 - MAPE: 71.6945 - MSE: 1065.2734\n",
      "Epoch 3/10\n",
      "302/302 [==============================] - 1s 4ms/step - loss: 602.9711 - MAE: 20.6210 - MAPE: 54.6528 - MSE: 602.9711\n",
      "Epoch 4/10\n",
      "302/302 [==============================] - 1s 2ms/step - loss: 460.5129 - MAE: 17.7008 - MAPE: 49.6030 - MSE: 460.5129\n",
      "Epoch 5/10\n",
      "302/302 [==============================] - 1s 2ms/step - loss: 339.3582 - MAE: 14.9801 - MAPE: 43.6642 - MSE: 339.3582\n",
      "Epoch 6/10\n",
      "302/302 [==============================] - 1s 4ms/step - loss: 224.3839 - MAE: 11.7117 - MAPE: 36.9146 - MSE: 224.3839\n",
      "Epoch 7/10\n",
      "302/302 [==============================] - 2s 6ms/step - loss: 162.0959 - MAE: 9.1591 - MAPE: 32.2340 - MSE: 162.0959\n",
      "Epoch 8/10\n",
      "302/302 [==============================] - 2s 5ms/step - loss: 141.7025 - MAE: 7.9223 - MAPE: 30.1271 - MSE: 141.7025\n",
      "Epoch 9/10\n",
      "302/302 [==============================] - 2s 6ms/step - loss: 136.6533 - MAE: 7.6777 - MAPE: 29.8205 - MSE: 136.6533\n",
      "Epoch 10/10\n",
      "302/302 [==============================] - 1s 4ms/step - loss: 134.3857 - MAE: 7.7193 - MAPE: 29.8498 - MSE: 134.3857\n",
      "471/471 [==============================] - 2s 4ms/step - loss: 135.6304 - MAE: 7.7716 - MAPE: 30.7330 - MSE: 135.6304\n"
     ]
    },
    {
     "data": {
      "text/plain": [
       "[135.63043212890625, 7.771584510803223, 30.732999801635742, 135.63043212890625]"
      ]
     },
     "execution_count": 9,
     "metadata": {},
     "output_type": "execute_result"
    }
   ],
   "source": [
    "#units=20, epochs=10, batch_size=100\n",
    "model = Sequential()\n",
    "model.add(Dense(input_dim=14, units=1))\n",
    "model.add(Dense(20, activation=\"relu\"))\n",
    "model.add(Dense(1))\n",
    "\n",
    "model.compile(loss=\"mse\", optimizer=\"adam\", metrics=[\"MAE\", \"MAPE\", \"MSE\"])\n",
    "\n",
    "history = model.fit(X_train, y_train, epochs=10, batch_size=100)\n",
    "\n",
    "model.evaluate(X_test, y_test)"
   ]
  },
  {
   "cell_type": "code",
   "execution_count": 10,
   "id": "016f15c9",
   "metadata": {},
   "outputs": [
    {
     "name": "stdout",
     "output_type": "stream",
     "text": [
      "Epoch 1/5\n",
      "604/604 [==============================] - 3s 4ms/step - loss: 1383.5184 - MAE: 34.6378 - MAPE: 83.9680 - MSE: 1383.5184\n",
      "Epoch 2/5\n",
      "604/604 [==============================] - 4s 6ms/step - loss: 506.5483 - MAE: 18.6622 - MAPE: 51.0646 - MSE: 506.5483\n",
      "Epoch 3/5\n",
      "604/604 [==============================] - 3s 5ms/step - loss: 302.9577 - MAE: 14.0027 - MAPE: 41.1262 - MSE: 302.9577\n",
      "Epoch 4/5\n",
      "604/604 [==============================] - 3s 6ms/step - loss: 168.2484 - MAE: 9.8179 - MAPE: 32.6558 - MSE: 168.2484\n",
      "Epoch 5/5\n",
      "604/604 [==============================] - 4s 6ms/step - loss: 132.2711 - MAE: 7.9675 - MAPE: 29.7545 - MSE: 132.2711\n",
      "471/471 [==============================] - 2s 3ms/step - loss: 131.8015 - MAE: 7.7996 - MAPE: 30.3651 - MSE: 131.8015\n"
     ]
    },
    {
     "data": {
      "text/plain": [
       "[131.8014678955078, 7.7996392250061035, 30.365083694458008, 131.8014678955078]"
      ]
     },
     "execution_count": 10,
     "metadata": {},
     "output_type": "execute_result"
    }
   ],
   "source": [
    "#units=20, epochs=5, batch_size=50\n",
    "model = Sequential()\n",
    "model.add(Dense(input_dim=14, units=1))\n",
    "model.add(Dense(20, activation=\"relu\"))\n",
    "model.add(Dense(1))\n",
    "\n",
    "model.compile(loss=\"mse\", optimizer=\"adam\", metrics=[\"MAE\", \"MAPE\", \"MSE\"])\n",
    "\n",
    "history = model.fit(X_train, y_train, epochs=5, batch_size=50)\n",
    "\n",
    "model.evaluate(X_test, y_test)"
   ]
  }
 ],
 "metadata": {
  "kernelspec": {
   "display_name": "Python 3 (ipykernel)",
   "language": "python",
   "name": "python3"
  },
  "language_info": {
   "codemirror_mode": {
    "name": "ipython",
    "version": 3
   },
   "file_extension": ".py",
   "mimetype": "text/x-python",
   "name": "python",
   "nbconvert_exporter": "python",
   "pygments_lexer": "ipython3",
   "version": "3.9.7"
  }
 },
 "nbformat": 4,
 "nbformat_minor": 5
}
