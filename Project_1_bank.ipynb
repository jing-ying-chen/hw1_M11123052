{
 "cells": [
  {
   "cell_type": "markdown",
   "id": "bb26f11e",
   "metadata": {},
   "source": [
    "## 預測類別(y=>客戶是否訂閱了定期存款？)"
   ]
  },
  {
   "cell_type": "code",
   "execution_count": 1,
   "id": "d3d4c8be",
   "metadata": {},
   "outputs": [],
   "source": [
    "import numpy as np\n",
    "import pandas as pd\n",
    "import keras.backend as K\n",
    "from sklearn.preprocessing import LabelEncoder\n",
    "from sklearn.preprocessing import OneHotEncoder\n",
    "from sklearn.preprocessing import StandardScaler\n",
    "from sklearn.model_selection import train_test_split\n",
    "from keras.models import Sequential\n",
    "from keras.layers import Dense\n",
    "from keras import optimizers\n",
    "\n",
    "#參考文獻\n",
    "#https://www.itread01.com/elpc.html\n",
    "#https://www.796t.com/content/1541950927.html\n",
    "#https://datascience.stackexchange.com/questions/45165/how-to-get-accuracy-f1-precision-and-recall-for-a-keras-model"
   ]
  },
  {
   "cell_type": "code",
   "execution_count": 2,
   "id": "13d7e3cb",
   "metadata": {},
   "outputs": [],
   "source": [
    "from keras import backend as K\n",
    "\n",
    "def precision_m(y_true, y_pred):\n",
    "    true_positives = K.sum(K.round(K.clip(y_true * y_pred, 0, 1)))\n",
    "    predicted_positives = K.sum(K.round(K.clip(y_pred, 0, 1)))\n",
    "    return true_positives / (predicted_positives + K.epsilon())\n",
    "\n",
    "def recall_m(y_true, y_pred):\n",
    "    true_positives = K.sum(K.round(K.clip(y_true * y_pred, 0, 1)))\n",
    "    possible_positives = K.sum(K.round(K.clip(y_true, 0, 1)))\n",
    "    return true_positives / (possible_positives + K.epsilon())\n",
    "\n",
    "def f1_m(y_true, y_pred):\n",
    "    precision = precision_m(y_true, y_pred)\n",
    "    recall = recall_m(y_true, y_pred)\n",
    "    return 2*((precision*recall)/(precision+recall+K.epsilon()))"
   ]
  },
  {
   "cell_type": "code",
   "execution_count": 3,
   "id": "576860fb",
   "metadata": {},
   "outputs": [],
   "source": [
    "#Import data\n",
    "data = pd.read_csv(\"C:\\\\bank-full.csv\", sep=\";\")"
   ]
  },
  {
   "cell_type": "code",
   "execution_count": 4,
   "id": "86f5bdc6",
   "metadata": {},
   "outputs": [],
   "source": [
    "#Preprocessing-Delete Data data\n",
    "data = data.drop([\"day\", \"month\"], axis=1)"
   ]
  },
  {
   "cell_type": "code",
   "execution_count": 5,
   "id": "ff95e807",
   "metadata": {},
   "outputs": [],
   "source": [
    "#Preprocessing-LabelEncoder\n",
    "for col in data[[\"job\", \"marital\", \"education\", \"default\", \"housing\", \"loan\", \"contact\", \"poutcome\", \"y\"]]:\n",
    "    LE = LabelEncoder()\n",
    "    data[col] = LE.fit_transform(data[col])"
   ]
  },
  {
   "cell_type": "code",
   "execution_count": 6,
   "id": "6fad1d09",
   "metadata": {},
   "outputs": [],
   "source": [
    "#Preprocessing-Split data\n",
    "X = data.drop(\"y\", axis=1)\n",
    "y = data[[\"y\"]]\n",
    "X_train, X_test, y_train, y_test = train_test_split(X, y, test_size=0.15) #訓練資料(包含驗證資料)85%，測試資料15%"
   ]
  },
  {
   "cell_type": "code",
   "execution_count": 7,
   "id": "ff9f8ca1",
   "metadata": {},
   "outputs": [],
   "source": [
    "#Preprocessing-Standardization\n",
    "scaler = StandardScaler()\n",
    "\n",
    "X_train = scaler.fit_transform(X_train)\n",
    "X_test = scaler.transform(X_test)"
   ]
  },
  {
   "cell_type": "code",
   "execution_count": 8,
   "id": "0c51f83f",
   "metadata": {
    "scrolled": true
   },
   "outputs": [
    {
     "name": "stdout",
     "output_type": "stream",
     "text": [
      "Epoch 1/5\n",
      "319/319 [==============================] - 2s 3ms/step - loss: 0.7883 - precision_m: 0.0099 - recall_m: 0.0018 - f1_m: 0.0029 - val_loss: 0.3579 - val_precision_m: 0.0000e+00 - val_recall_m: 0.0000e+00 - val_f1_m: 0.0000e+00\n",
      "Epoch 2/5\n",
      "319/319 [==============================] - 1s 2ms/step - loss: 0.3486 - precision_m: 0.0219 - recall_m: 0.0016 - f1_m: 0.0030 - val_loss: 0.3528 - val_precision_m: 0.0758 - val_recall_m: 0.0068 - val_f1_m: 0.0124\n",
      "Epoch 3/5\n",
      "319/319 [==============================] - 0s 2ms/step - loss: 0.3411 - precision_m: 0.1207 - recall_m: 0.0115 - f1_m: 0.0208 - val_loss: 0.3449 - val_precision_m: 0.1780 - val_recall_m: 0.0212 - val_f1_m: 0.0365\n",
      "Epoch 4/5\n",
      "319/319 [==============================] - 0s 2ms/step - loss: 0.3287 - precision_m: 0.3034 - recall_m: 0.0399 - f1_m: 0.0685 - val_loss: 0.3317 - val_precision_m: 0.1591 - val_recall_m: 0.0147 - val_f1_m: 0.0268\n",
      "Epoch 5/5\n",
      "319/319 [==============================] - 0s 2ms/step - loss: 0.3335 - precision_m: 0.4613 - recall_m: 0.0717 - f1_m: 0.1200 - val_loss: 0.3215 - val_precision_m: 0.4823 - val_recall_m: 0.0834 - val_f1_m: 0.1368\n",
      "212/212 [==============================] - 0s 1ms/step - loss: 0.3115 - precision_m: 0.2013 - recall_m: 0.0732 - f1_m: 0.1006    \n"
     ]
    },
    {
     "data": {
      "text/plain": [
       "[0.3114885687828064,\n",
       " 0.2012578696012497,\n",
       " 0.07319368422031403,\n",
       " 0.10063298046588898]"
      ]
     },
     "execution_count": 8,
     "metadata": {},
     "output_type": "execute_result"
    }
   ],
   "source": [
    "#epochs=5, batch_size=100\n",
    "model = Sequential()\n",
    "model.add(Dense(input_dim=14, units=1))\n",
    "model.add(Dense(20, activation=\"relu\"))\n",
    "model.add(Dense(1))\n",
    "\n",
    "model.compile(loss=\"binary_crossentropy\", optimizer=\"adam\", metrics=[precision_m, recall_m, f1_m])\n",
    "\n",
    "#訓練資料(含驗證資料)占資料集85%，驗證資料須占資料集15%，因此設定為15/85=17%(占85%裡的17%)\n",
    "history = model.fit(X_train, y_train, validation_split=0.17, epochs=5, batch_size=100)\n",
    "\n",
    "model.evaluate(X_test, y_test)"
   ]
  },
  {
   "cell_type": "code",
   "execution_count": 9,
   "id": "c7722e09",
   "metadata": {},
   "outputs": [
    {
     "name": "stdout",
     "output_type": "stream",
     "text": [
      "Epoch 1/10\n",
      "319/319 [==============================] - 1s 2ms/step - loss: 0.4436 - precision_m: 0.1217 - recall_m: 0.0436 - f1_m: 0.0554 - val_loss: 0.3596 - val_precision_m: 0.0000e+00 - val_recall_m: 0.0000e+00 - val_f1_m: 0.0000e+00\n",
      "Epoch 2/10\n",
      "319/319 [==============================] - 0s 2ms/step - loss: 0.3582 - precision_m: 0.0266 - recall_m: 0.0021 - f1_m: 0.0039 - val_loss: 0.3552 - val_precision_m: 0.0000e+00 - val_recall_m: 0.0000e+00 - val_f1_m: 0.0000e+00\n",
      "Epoch 3/10\n",
      "319/319 [==============================] - 0s 1ms/step - loss: 0.3486 - precision_m: 0.0125 - recall_m: 9.0312e-04 - f1_m: 0.0017 - val_loss: 0.3500 - val_precision_m: 0.0000e+00 - val_recall_m: 0.0000e+00 - val_f1_m: 0.0000e+00\n",
      "Epoch 4/10\n",
      "319/319 [==============================] - 0s 1ms/step - loss: 0.3425 - precision_m: 0.0157 - recall_m: 0.0013 - f1_m: 0.0023 - val_loss: 0.3433 - val_precision_m: 0.0000e+00 - val_recall_m: 0.0000e+00 - val_f1_m: 0.0000e+00\n",
      "Epoch 5/10\n",
      "319/319 [==============================] - 1s 2ms/step - loss: 0.3332 - precision_m: 0.0141 - recall_m: 0.0012 - f1_m: 0.0022 - val_loss: 0.3297 - val_precision_m: 0.0000e+00 - val_recall_m: 0.0000e+00 - val_f1_m: 0.0000e+00\n",
      "Epoch 6/10\n",
      "319/319 [==============================] - 0s 2ms/step - loss: 0.3269 - precision_m: 0.0381 - recall_m: 0.0035 - f1_m: 0.0062 - val_loss: 0.3139 - val_precision_m: 0.0758 - val_recall_m: 0.0051 - val_f1_m: 0.0095\n",
      "Epoch 7/10\n",
      "319/319 [==============================] - 0s 1ms/step - loss: 0.3028 - precision_m: 0.1526 - recall_m: 0.0179 - f1_m: 0.0311 - val_loss: 0.2992 - val_precision_m: 0.1515 - val_recall_m: 0.0137 - val_f1_m: 0.0250\n",
      "Epoch 8/10\n",
      "319/319 [==============================] - 0s 1ms/step - loss: 0.2844 - precision_m: 0.3840 - recall_m: 0.0597 - f1_m: 0.0993 - val_loss: 0.2823 - val_precision_m: 0.4601 - val_recall_m: 0.0772 - val_f1_m: 0.1263\n",
      "Epoch 9/10\n",
      "319/319 [==============================] - 0s 1ms/step - loss: 0.2733 - precision_m: 0.5427 - recall_m: 0.1112 - f1_m: 0.1752 - val_loss: 0.2749 - val_precision_m: 0.5371 - val_recall_m: 0.1142 - val_f1_m: 0.1794\n",
      "Epoch 10/10\n",
      "319/319 [==============================] - 0s 2ms/step - loss: 0.2651 - precision_m: 0.5335 - recall_m: 0.1204 - f1_m: 0.1864 - val_loss: 0.2788 - val_precision_m: 0.5442 - val_recall_m: 0.1166 - val_f1_m: 0.1821\n",
      "212/212 [==============================] - 0s 1ms/step - loss: 0.2650 - precision_m: 0.2598 - recall_m: 0.1081 - f1_m: 0.1412    \n"
     ]
    },
    {
     "data": {
      "text/plain": [
       "[0.26497888565063477,\n",
       " 0.25982704758644104,\n",
       " 0.10810887813568115,\n",
       " 0.14119061827659607]"
      ]
     },
     "execution_count": 9,
     "metadata": {},
     "output_type": "execute_result"
    }
   ],
   "source": [
    "#epochs=10, batch_size=100\n",
    "model = Sequential()\n",
    "model.add(Dense(input_dim=14, units=1))\n",
    "model.add(Dense(20, activation=\"relu\"))\n",
    "model.add(Dense(1))\n",
    "\n",
    "model.compile(loss=\"binary_crossentropy\", optimizer=\"adam\", metrics=[precision_m, recall_m, f1_m])\n",
    "\n",
    "#訓練資料(含驗證資料)占資料集85%，驗證資料須占資料集15%，因此設定為15/85=17%(占85%裡的17%)\n",
    "history = model.fit(X_train, y_train, validation_split=0.17, epochs=10, batch_size=100)\n",
    "\n",
    "model.evaluate(X_test, y_test)"
   ]
  },
  {
   "cell_type": "code",
   "execution_count": 10,
   "id": "b3113741",
   "metadata": {},
   "outputs": [
    {
     "name": "stdout",
     "output_type": "stream",
     "text": [
      "Epoch 1/5\n",
      "638/638 [==============================] - 2s 2ms/step - loss: 0.3993 - precision_m: 0.0035 - recall_m: 0.0115 - f1_m: 0.0050 - val_loss: 0.3239 - val_precision_m: 0.0000e+00 - val_recall_m: 0.0000e+00 - val_f1_m: 0.0000e+00\n",
      "Epoch 2/5\n",
      "638/638 [==============================] - 1s 1ms/step - loss: 0.2999 - precision_m: 0.1275 - recall_m: 0.0297 - f1_m: 0.0454 - val_loss: 0.2782 - val_precision_m: 0.4903 - val_recall_m: 0.1498 - val_f1_m: 0.2171\n",
      "Epoch 3/5\n",
      "638/638 [==============================] - 1s 1ms/step - loss: 0.2651 - precision_m: 0.4484 - recall_m: 0.1510 - f1_m: 0.2118 - val_loss: 0.2643 - val_precision_m: 0.4702 - val_recall_m: 0.1690 - val_f1_m: 0.2337\n",
      "Epoch 4/5\n",
      "638/638 [==============================] - 1s 1ms/step - loss: 0.2567 - precision_m: 0.4858 - recall_m: 0.1775 - f1_m: 0.2392 - val_loss: 0.2605 - val_precision_m: 0.4385 - val_recall_m: 0.1312 - val_f1_m: 0.1900\n",
      "Epoch 5/5\n",
      "638/638 [==============================] - 1s 1ms/step - loss: 0.2542 - precision_m: 0.4643 - recall_m: 0.1560 - f1_m: 0.2180 - val_loss: 0.2586 - val_precision_m: 0.5061 - val_recall_m: 0.1716 - val_f1_m: 0.2406\n",
      "212/212 [==============================] - 0s 1ms/step - loss: 0.2530 - precision_m: 0.3793 - recall_m: 0.1589 - f1_m: 0.2103    \n"
     ]
    },
    {
     "data": {
      "text/plain": [
       "[0.25297310948371887,\n",
       " 0.37932389974594116,\n",
       " 0.1588669866323471,\n",
       " 0.21030974388122559]"
      ]
     },
     "execution_count": 10,
     "metadata": {},
     "output_type": "execute_result"
    }
   ],
   "source": [
    "#epochs=5, batch_size=50\n",
    "model = Sequential()\n",
    "model.add(Dense(input_dim=14, units=1))\n",
    "model.add(Dense(20, activation=\"relu\"))\n",
    "model.add(Dense(1, activation=\"sigmoid\"))\n",
    "\n",
    "model.compile(loss=\"binary_crossentropy\", optimizer=\"adam\", metrics=[precision_m, recall_m, f1_m])\n",
    "\n",
    "#訓練資料(含驗證資料)占資料集85%，驗證資料須占資料集15%，因此設定為15/85=17%(占85%裡的17%)\n",
    "history = model.fit(X_train, y_train, validation_split=0.17, epochs=5, batch_size=50)\n",
    "\n",
    "model.evaluate(X_test, y_test)"
   ]
  },
  {
   "cell_type": "markdown",
   "id": "f899186f",
   "metadata": {},
   "source": [
    "## 預測數值(age=>客戶年齡)"
   ]
  },
  {
   "cell_type": "code",
   "execution_count": 11,
   "id": "ac518d0c",
   "metadata": {},
   "outputs": [],
   "source": [
    "#Import data\n",
    "data = pd.read_csv(\"C:\\\\bank-full.csv\", sep=\";\")"
   ]
  },
  {
   "cell_type": "code",
   "execution_count": 12,
   "id": "0a01dfae",
   "metadata": {},
   "outputs": [],
   "source": [
    "#Preprocessing-Delete Data data\n",
    "data = data.drop([\"day\", \"month\"], axis=1)"
   ]
  },
  {
   "cell_type": "code",
   "execution_count": 13,
   "id": "f8dbed1a",
   "metadata": {},
   "outputs": [],
   "source": [
    "#Preprocessing-LabelEncoder\n",
    "for col in data[[\"job\", \"marital\", \"education\", \"default\", \"housing\", \"loan\", \"contact\", \"poutcome\", \"y\"]]:\n",
    "    LE = LabelEncoder()\n",
    "    data[col] = LE.fit_transform(data[col])"
   ]
  },
  {
   "cell_type": "code",
   "execution_count": 14,
   "id": "0488fc09",
   "metadata": {},
   "outputs": [],
   "source": [
    "#Preprocessing-Split data\n",
    "X = data.drop(\"age\", axis=1)\n",
    "y = data[[\"age\"]]\n",
    "X_train, X_test, y_train, y_test = train_test_split(X, y, test_size=0.15) #訓練資料(含驗證資料)85%，測試資料15%"
   ]
  },
  {
   "cell_type": "code",
   "execution_count": 15,
   "id": "851720e6",
   "metadata": {},
   "outputs": [],
   "source": [
    "#Preprocessing-Standardization\n",
    "scaler = StandardScaler()\n",
    "\n",
    "X_train = scaler.fit_transform(X_train)\n",
    "X_test = scaler.transform(X_test)"
   ]
  },
  {
   "cell_type": "code",
   "execution_count": 16,
   "id": "78f916c0",
   "metadata": {
    "scrolled": true
   },
   "outputs": [
    {
     "name": "stdout",
     "output_type": "stream",
     "text": [
      "Epoch 1/5\n",
      "319/319 [==============================] - 1s 2ms/step - loss: 1587.9421 - MAE: 38.1765 - MAPE: 92.6279 - MSE: 1587.9421 - val_loss: 1236.6490 - val_MAE: 32.8834 - val_MAPE: 78.6575 - val_MSE: 1236.6492\n",
      "Epoch 2/5\n",
      "319/319 [==============================] - 0s 1ms/step - loss: 811.9867 - MAE: 24.7204 - MAPE: 58.2071 - MSE: 811.9868 - val_loss: 456.9815 - val_MAE: 17.2606 - val_MAPE: 40.4309 - val_MSE: 456.9815\n",
      "Epoch 3/5\n",
      "319/319 [==============================] - 0s 1ms/step - loss: 344.3854 - MAE: 13.9326 - MAPE: 33.2303 - MSE: 344.3854 - val_loss: 246.1255 - val_MAE: 11.7820 - val_MAPE: 28.5666 - val_MSE: 246.1255\n",
      "Epoch 4/5\n",
      "319/319 [==============================] - 0s 2ms/step - loss: 245.5776 - MAE: 11.2699 - MAPE: 27.4162 - MSE: 245.5776 - val_loss: 199.4021 - val_MAE: 10.4246 - val_MAPE: 25.5306 - val_MSE: 199.4021\n",
      "Epoch 5/5\n",
      "319/319 [==============================] - 0s 2ms/step - loss: 214.2264 - MAE: 10.3479 - MAPE: 25.3613 - MSE: 214.2264 - val_loss: 179.6467 - val_MAE: 9.8740 - val_MAPE: 24.3179 - val_MSE: 179.6467\n",
      "212/212 [==============================] - 0s 1ms/step - loss: 184.5299 - MAE: 9.9514 - MAPE: 24.5068 - MSE: 184.5299\n"
     ]
    },
    {
     "data": {
      "text/plain": [
       "[184.5299072265625, 9.951435089111328, 24.50676155090332, 184.5299072265625]"
      ]
     },
     "execution_count": 16,
     "metadata": {},
     "output_type": "execute_result"
    }
   ],
   "source": [
    "#epochs=5, batch_size=100\n",
    "model = Sequential()\n",
    "model.add(Dense(input_dim=14, units=1))\n",
    "model.add(Dense(20, activation=\"relu\"))\n",
    "model.add(Dense(1))\n",
    "\n",
    "model.compile(loss=\"mse\", optimizer=\"adam\", metrics=[\"MAE\", \"MAPE\", \"MSE\"])\n",
    "\n",
    "#訓練資料(含驗證資料)占資料集85%，驗證資料須占資料集15%，因此設定為15/85=17%(占85%裡的17%)\n",
    "history = model.fit(X_train, y_train, validation_split=0.17, epochs=5, batch_size=100)\n",
    "\n",
    "model.evaluate(X_test, y_test)"
   ]
  },
  {
   "cell_type": "code",
   "execution_count": 17,
   "id": "20ae481f",
   "metadata": {},
   "outputs": [
    {
     "name": "stdout",
     "output_type": "stream",
     "text": [
      "Epoch 1/10\n",
      "319/319 [==============================] - 1s 2ms/step - loss: 1585.3098 - MAE: 38.2763 - MAPE: 93.0553 - MSE: 1585.3098 - val_loss: 1248.8986 - val_MAE: 33.4684 - val_MAPE: 80.5923 - val_MSE: 1248.8986\n",
      "Epoch 2/10\n",
      "319/319 [==============================] - 0s 1ms/step - loss: 823.9233 - MAE: 25.4914 - MAPE: 60.8317 - MSE: 823.9233 - val_loss: 569.8174 - val_MAE: 20.1196 - val_MAPE: 48.2387 - val_MSE: 569.8174\n",
      "Epoch 3/10\n",
      "319/319 [==============================] - 0s 2ms/step - loss: 494.9156 - MAE: 18.4351 - MAPE: 44.5182 - MSE: 494.9156 - val_loss: 437.1019 - val_MAE: 17.2716 - val_MAPE: 41.7822 - val_MSE: 437.1019\n",
      "Epoch 4/10\n",
      "319/319 [==============================] - 0s 2ms/step - loss: 366.6788 - MAE: 15.6053 - MAPE: 37.5285 - MSE: 366.6788 - val_loss: 300.3125 - val_MAE: 14.0326 - val_MAPE: 33.5341 - val_MSE: 300.3125\n",
      "Epoch 5/10\n",
      "319/319 [==============================] - 1s 2ms/step - loss: 233.1978 - MAE: 11.9847 - MAPE: 28.3541 - MSE: 233.1978 - val_loss: 175.2854 - val_MAE: 10.2752 - val_MAPE: 24.3318 - val_MSE: 175.2854\n",
      "Epoch 6/10\n",
      "319/319 [==============================] - 0s 2ms/step - loss: 143.2480 - MAE: 9.1525 - MAPE: 21.9011 - MSE: 143.2480 - val_loss: 121.2592 - val_MAE: 8.5472 - val_MAPE: 20.7446 - val_MSE: 121.2592\n",
      "Epoch 7/10\n",
      "319/319 [==============================] - 0s 2ms/step - loss: 113.0111 - MAE: 8.3033 - MAPE: 20.6011 - MSE: 113.0111 - val_loss: 106.4507 - val_MAE: 8.2230 - val_MAPE: 20.6176 - val_MSE: 106.4507\n",
      "Epoch 8/10\n",
      "319/319 [==============================] - 1s 2ms/step - loss: 104.9767 - MAE: 8.1756 - MAPE: 20.7282 - MSE: 104.9767 - val_loss: 102.2858 - val_MAE: 8.1531 - val_MAPE: 20.7305 - val_MSE: 102.2858\n",
      "Epoch 9/10\n",
      "319/319 [==============================] - 0s 2ms/step - loss: 102.0644 - MAE: 8.1167 - MAPE: 20.7366 - MSE: 102.0644 - val_loss: 99.8747 - val_MAE: 8.0780 - val_MAPE: 20.5987 - val_MSE: 99.8747\n",
      "Epoch 10/10\n",
      "319/319 [==============================] - 0s 2ms/step - loss: 99.7234 - MAE: 8.0337 - MAPE: 20.5668 - MSE: 99.7234 - val_loss: 97.4964 - val_MAE: 8.0036 - val_MAPE: 20.5481 - val_MSE: 97.4964\n",
      "212/212 [==============================] - 0s 1ms/step - loss: 98.1366 - MAE: 7.9697 - MAPE: 20.5916 - MSE: 98.1366\n"
     ]
    },
    {
     "data": {
      "text/plain": [
       "[98.13658142089844, 7.969728946685791, 20.59163475036621, 98.13658142089844]"
      ]
     },
     "execution_count": 17,
     "metadata": {},
     "output_type": "execute_result"
    }
   ],
   "source": [
    "#epochs=10, batch_size=100\n",
    "model = Sequential()\n",
    "model.add(Dense(input_dim=14, units=1))\n",
    "model.add(Dense(20, activation=\"relu\"))\n",
    "model.add(Dense(1))\n",
    "\n",
    "model.compile(loss=\"mse\", optimizer=\"adam\", metrics=[\"MAE\", \"MAPE\", \"MSE\"])\n",
    "\n",
    "#訓練資料(含驗證資料)占資料集85%，驗證資料須占資料集15%，因此設定為15/85=17%(占85%裡的17%)\n",
    "history = model.fit(X_train, y_train, validation_split=0.17, epochs=10, batch_size=100)\n",
    "\n",
    "model.evaluate(X_test, y_test)"
   ]
  },
  {
   "cell_type": "code",
   "execution_count": 18,
   "id": "eb983a72",
   "metadata": {},
   "outputs": [
    {
     "name": "stdout",
     "output_type": "stream",
     "text": [
      "Epoch 1/5\n",
      "638/638 [==============================] - 2s 2ms/step - loss: 1202.9044 - MAE: 31.8414 - MAPE: 76.6833 - MSE: 1202.9044 - val_loss: 611.9473 - val_MAE: 20.9789 - val_MAPE: 50.0791 - val_MSE: 611.9473\n",
      "Epoch 2/5\n",
      "638/638 [==============================] - 1s 2ms/step - loss: 456.8452 - MAE: 17.7679 - MAPE: 42.6995 - MSE: 456.8452 - val_loss: 327.0279 - val_MAE: 14.7570 - val_MAPE: 35.0480 - val_MSE: 327.0279\n",
      "Epoch 3/5\n",
      "638/638 [==============================] - 1s 1ms/step - loss: 208.2619 - MAE: 11.3236 - MAPE: 26.8924 - MSE: 208.2619 - val_loss: 130.9086 - val_MAE: 9.0092 - val_MAPE: 21.8646 - val_MSE: 130.9086\n",
      "Epoch 4/5\n",
      "638/638 [==============================] - 1s 2ms/step - loss: 113.7159 - MAE: 8.5576 - MAPE: 21.5282 - MSE: 113.7159 - val_loss: 107.5040 - val_MAE: 8.4827 - val_MAPE: 21.7483 - val_MSE: 107.5040\n",
      "Epoch 5/5\n",
      "638/638 [==============================] - 1s 1ms/step - loss: 105.7228 - MAE: 8.3774 - MAPE: 21.5115 - MSE: 105.7228 - val_loss: 104.3913 - val_MAE: 8.3452 - val_MAPE: 21.4170 - val_MSE: 104.3913\n",
      "212/212 [==============================] - 0s 1ms/step - loss: 104.4086 - MAE: 8.2866 - MAPE: 21.3628 - MSE: 104.4086\n"
     ]
    },
    {
     "data": {
      "text/plain": [
       "[104.40863800048828, 8.286643028259277, 21.362796783447266, 104.40863800048828]"
      ]
     },
     "execution_count": 18,
     "metadata": {},
     "output_type": "execute_result"
    }
   ],
   "source": [
    "#epochs=5, batch_size=50\n",
    "model = Sequential()\n",
    "model.add(Dense(input_dim=14, units=1))\n",
    "model.add(Dense(20, activation=\"relu\"))\n",
    "model.add(Dense(1))\n",
    "\n",
    "model.compile(loss=\"mse\", optimizer=\"adam\", metrics=[\"MAE\", \"MAPE\", \"MSE\"])\n",
    "\n",
    "#訓練資料(含驗證資料)占資料集85%，驗證資料須占資料集15%，因此設定為15/85=17%(占85%裡的17%)\n",
    "history = model.fit(X_train, y_train, validation_split=0.17, epochs=5, batch_size=50)\n",
    "\n",
    "model.evaluate(X_test, y_test)"
   ]
  }
 ],
 "metadata": {
  "kernelspec": {
   "display_name": "Python 3 (ipykernel)",
   "language": "python",
   "name": "python3"
  },
  "language_info": {
   "codemirror_mode": {
    "name": "ipython",
    "version": 3
   },
   "file_extension": ".py",
   "mimetype": "text/x-python",
   "name": "python",
   "nbconvert_exporter": "python",
   "pygments_lexer": "ipython3",
   "version": "3.9.7"
  }
 },
 "nbformat": 4,
 "nbformat_minor": 5
}
